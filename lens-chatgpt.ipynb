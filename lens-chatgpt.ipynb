{
 "cells": [
  {
   "cell_type": "code",
   "execution_count": 1,
   "id": "66cc3a74",
   "metadata": {
    "execution": {
     "iopub.execute_input": "2023-04-07T06:55:22.701717Z",
     "iopub.status.busy": "2023-04-07T06:55:22.701137Z",
     "iopub.status.idle": "2023-04-07T06:55:26.869602Z",
     "shell.execute_reply": "2023-04-07T06:55:26.868252Z"
    },
    "papermill": {
     "duration": 4.179021,
     "end_time": "2023-04-07T06:55:26.872670",
     "exception": false,
     "start_time": "2023-04-07T06:55:22.693649",
     "status": "completed"
    },
    "tags": []
   },
   "outputs": [
    {
     "name": "stdout",
     "output_type": "stream",
     "text": [
      "\r\n",
      "\r\n",
      "\r\n",
      "tesseract-ocr is already the newest version (4.1.1-2build2).\r\n",
      "0 upgraded, 0 newly installed, 0 to remove and 65 not upgraded.\r\n"
     ]
    }
   ],
   "source": [
    "!sudo apt install tesseract-ocr"
   ]
  },
  {
   "cell_type": "code",
   "execution_count": 2,
   "id": "d33c0e36",
   "metadata": {
    "execution": {
     "iopub.execute_input": "2023-04-07T06:55:26.885470Z",
     "iopub.status.busy": "2023-04-07T06:55:26.885007Z",
     "iopub.status.idle": "2023-04-07T06:55:42.363652Z",
     "shell.execute_reply": "2023-04-07T06:55:42.360895Z"
    },
    "papermill": {
     "duration": 15.48942,
     "end_time": "2023-04-07T06:55:42.367679",
     "exception": false,
     "start_time": "2023-04-07T06:55:26.878259",
     "status": "completed"
    },
    "tags": []
   },
   "outputs": [
    {
     "name": "stdout",
     "output_type": "stream",
     "text": [
      "Collecting openai\r\n",
      "  Downloading openai-0.27.4-py3-none-any.whl (70 kB)\r\n",
      "\u001b[2K     \u001b[90m━━━━━━━━━━━━━━━━━━━━━━━━━━━━━━━━━━━━━━━━\u001b[0m \u001b[32m70.3/70.3 kB\u001b[0m \u001b[31m4.0 MB/s\u001b[0m eta \u001b[36m0:00:00\u001b[0m\r\n",
      "\u001b[?25hRequirement already satisfied: easyocr in /opt/conda/lib/python3.7/site-packages (1.6.2)\r\n",
      "Requirement already satisfied: pytesseract in /opt/conda/lib/python3.7/site-packages (0.3.10)\r\n",
      "Collecting pyttsx3\r\n",
      "  Downloading pyttsx3-2.90-py3-none-any.whl (39 kB)\r\n",
      "Requirement already satisfied: aiohttp in /opt/conda/lib/python3.7/site-packages (from openai) (3.8.3)\r\n",
      "Requirement already satisfied: typing-extensions in /opt/conda/lib/python3.7/site-packages (from openai) (4.4.0)\r\n",
      "Requirement already satisfied: tqdm in /opt/conda/lib/python3.7/site-packages (from openai) (4.64.1)\r\n",
      "Requirement already satisfied: requests>=2.20 in /opt/conda/lib/python3.7/site-packages (from openai) (2.28.2)\r\n",
      "Requirement already satisfied: python-bidi in /opt/conda/lib/python3.7/site-packages (from easyocr) (0.4.2)\r\n",
      "Requirement already satisfied: scipy in /opt/conda/lib/python3.7/site-packages (from easyocr) (1.7.3)\r\n",
      "Requirement already satisfied: PyYAML in /opt/conda/lib/python3.7/site-packages (from easyocr) (6.0)\r\n",
      "Requirement already satisfied: Shapely in /opt/conda/lib/python3.7/site-packages (from easyocr) (1.8.0)\r\n",
      "Requirement already satisfied: opencv-python-headless<=4.5.4.60 in /opt/conda/lib/python3.7/site-packages (from easyocr) (4.5.4.60)\r\n",
      "Requirement already satisfied: pyclipper in /opt/conda/lib/python3.7/site-packages (from easyocr) (1.3.0.post4)\r\n",
      "Requirement already satisfied: numpy in /opt/conda/lib/python3.7/site-packages (from easyocr) (1.21.6)\r\n",
      "Requirement already satisfied: Pillow in /opt/conda/lib/python3.7/site-packages (from easyocr) (9.4.0)\r\n",
      "Requirement already satisfied: scikit-image in /opt/conda/lib/python3.7/site-packages (from easyocr) (0.19.3)\r\n",
      "Requirement already satisfied: ninja in /opt/conda/lib/python3.7/site-packages (from easyocr) (1.11.1)\r\n",
      "Requirement already satisfied: torch in /opt/conda/lib/python3.7/site-packages (from easyocr) (1.13.0+cpu)\r\n",
      "Requirement already satisfied: torchvision>=0.5 in /opt/conda/lib/python3.7/site-packages (from easyocr) (0.14.0+cpu)\r\n",
      "Requirement already satisfied: packaging>=21.3 in /opt/conda/lib/python3.7/site-packages (from pytesseract) (23.0)\r\n",
      "Requirement already satisfied: charset-normalizer<4,>=2 in /opt/conda/lib/python3.7/site-packages (from requests>=2.20->openai) (2.1.1)\r\n",
      "Requirement already satisfied: idna<4,>=2.5 in /opt/conda/lib/python3.7/site-packages (from requests>=2.20->openai) (3.4)\r\n",
      "Requirement already satisfied: certifi>=2017.4.17 in /opt/conda/lib/python3.7/site-packages (from requests>=2.20->openai) (2022.12.7)\r\n",
      "Requirement already satisfied: urllib3<1.27,>=1.21.1 in /opt/conda/lib/python3.7/site-packages (from requests>=2.20->openai) (1.26.14)\r\n",
      "Requirement already satisfied: frozenlist>=1.1.1 in /opt/conda/lib/python3.7/site-packages (from aiohttp->openai) (1.3.3)\r\n",
      "Requirement already satisfied: yarl<2.0,>=1.0 in /opt/conda/lib/python3.7/site-packages (from aiohttp->openai) (1.8.2)\r\n",
      "Requirement already satisfied: attrs>=17.3.0 in /opt/conda/lib/python3.7/site-packages (from aiohttp->openai) (22.2.0)\r\n",
      "Requirement already satisfied: async-timeout<5.0,>=4.0.0a3 in /opt/conda/lib/python3.7/site-packages (from aiohttp->openai) (4.0.2)\r\n",
      "Requirement already satisfied: aiosignal>=1.1.2 in /opt/conda/lib/python3.7/site-packages (from aiohttp->openai) (1.3.1)\r\n",
      "Requirement already satisfied: asynctest==0.13.0 in /opt/conda/lib/python3.7/site-packages (from aiohttp->openai) (0.13.0)\r\n",
      "Requirement already satisfied: multidict<7.0,>=4.5 in /opt/conda/lib/python3.7/site-packages (from aiohttp->openai) (6.0.4)\r\n",
      "Requirement already satisfied: six in /opt/conda/lib/python3.7/site-packages (from python-bidi->easyocr) (1.16.0)\r\n",
      "Requirement already satisfied: networkx>=2.2 in /opt/conda/lib/python3.7/site-packages (from scikit-image->easyocr) (2.6.3)\r\n",
      "Requirement already satisfied: PyWavelets>=1.1.1 in /opt/conda/lib/python3.7/site-packages (from scikit-image->easyocr) (1.3.0)\r\n",
      "Requirement already satisfied: tifffile>=2019.7.26 in /opt/conda/lib/python3.7/site-packages (from scikit-image->easyocr) (2021.11.2)\r\n",
      "Requirement already satisfied: imageio>=2.4.1 in /opt/conda/lib/python3.7/site-packages (from scikit-image->easyocr) (2.25.0)\r\n",
      "Installing collected packages: pyttsx3, openai\r\n",
      "Successfully installed openai-0.27.4 pyttsx3-2.90\r\n",
      "\u001b[33mWARNING: Running pip as the 'root' user can result in broken permissions and conflicting behaviour with the system package manager. It is recommended to use a virtual environment instead: https://pip.pypa.io/warnings/venv\u001b[0m\u001b[33m\r\n",
      "\u001b[0mNote: you may need to restart the kernel to use updated packages.\n"
     ]
    }
   ],
   "source": [
    "pip install --upgrade openai easyocr pytesseract pyttsx3"
   ]
  },
  {
   "cell_type": "code",
   "execution_count": 3,
   "id": "042a7f9e",
   "metadata": {
    "_cell_guid": "b1076dfc-b9ad-4769-8c92-a6c4dae69d19",
    "_uuid": "8f2839f25d086af736a60e9eeb907d3b93b6e0e5",
    "execution": {
     "iopub.execute_input": "2023-04-07T06:55:42.384175Z",
     "iopub.status.busy": "2023-04-07T06:55:42.383626Z",
     "iopub.status.idle": "2023-04-07T06:55:42.767161Z",
     "shell.execute_reply": "2023-04-07T06:55:42.764967Z"
    },
    "papermill": {
     "duration": 0.395831,
     "end_time": "2023-04-07T06:55:42.771055",
     "exception": false,
     "start_time": "2023-04-07T06:55:42.375224",
     "status": "completed"
    },
    "tags": []
   },
   "outputs": [
    {
     "name": "stdout",
     "output_type": "stream",
     "text": [
      "/kaggle/input/test-image/1.png\n",
      "/kaggle/input/test-2/1.png\n",
      "/kaggle/input/test-2/2.png\n",
      "/kaggle/input/openai/OpenAI_key.txt\n"
     ]
    }
   ],
   "source": [
    "import numpy as np\n",
    "import pandas as pd\n",
    "import matplotlib.pyplot as plt\n",
    "import openai\n",
    "import cv2\n",
    "import re\n",
    "from PIL import Image, ImageOps\n",
    "import pytesseract\n",
    "import pyttsx3\n",
    "import os\n",
    "\n",
    "\n",
    "from pytesseract import Output\n",
    "\n",
    "for dirname, _, filenames in os.walk('/kaggle/input'):\n",
    "    for filename in filenames:\n",
    "        print(os.path.join(dirname, filename))\n",
    "\n",
    "import warnings\n",
    "warnings.filterwarnings(\"ignore\")"
   ]
  },
  {
   "cell_type": "code",
   "execution_count": 4,
   "id": "65c7c4f7",
   "metadata": {
    "execution": {
     "iopub.execute_input": "2023-04-07T06:55:42.786690Z",
     "iopub.status.busy": "2023-04-07T06:55:42.785377Z",
     "iopub.status.idle": "2023-04-07T06:55:42.791876Z",
     "shell.execute_reply": "2023-04-07T06:55:42.790417Z"
    },
    "papermill": {
     "duration": 0.017351,
     "end_time": "2023-04-07T06:55:42.794579",
     "exception": false,
     "start_time": "2023-04-07T06:55:42.777228",
     "status": "completed"
    },
    "tags": []
   },
   "outputs": [],
   "source": [
    "#we have to work with this so, uncomment it before using the code\n",
    "\n",
    "#itr = int(input(\"Enter the number of searches you want to perform : \"))"
   ]
  },
  {
   "cell_type": "code",
   "execution_count": 5,
   "id": "a12d38ac",
   "metadata": {
    "execution": {
     "iopub.execute_input": "2023-04-07T06:55:42.810850Z",
     "iopub.status.busy": "2023-04-07T06:55:42.810049Z",
     "iopub.status.idle": "2023-04-07T06:55:42.819649Z",
     "shell.execute_reply": "2023-04-07T06:55:42.818294Z"
    },
    "papermill": {
     "duration": 0.022494,
     "end_time": "2023-04-07T06:55:42.823921",
     "exception": false,
     "start_time": "2023-04-07T06:55:42.801427",
     "status": "completed"
    },
    "tags": []
   },
   "outputs": [],
   "source": [
    "# Set up the OpenAI API client\n",
    "f = open(\"/kaggle/input/openai/OpenAI_key.txt\",'r',encoding=\"utf8\")\n",
    "key = f.read()\n",
    "openai.api_key = key"
   ]
  },
  {
   "cell_type": "code",
   "execution_count": 6,
   "id": "a7eb9992",
   "metadata": {
    "execution": {
     "iopub.execute_input": "2023-04-07T06:55:42.838235Z",
     "iopub.status.busy": "2023-04-07T06:55:42.837827Z",
     "iopub.status.idle": "2023-04-07T06:55:42.845677Z",
     "shell.execute_reply": "2023-04-07T06:55:42.843736Z"
    },
    "papermill": {
     "duration": 0.018487,
     "end_time": "2023-04-07T06:55:42.848650",
     "exception": false,
     "start_time": "2023-04-07T06:55:42.830163",
     "status": "completed"
    },
    "tags": []
   },
   "outputs": [],
   "source": [
    "def plot_gray(image):\n",
    "    plt.figure(figsize=(16,10))\n",
    "    return plt.imshow(image, cmap='Greys_r')\n",
    "\n",
    "def plot_rgb(image):\n",
    "    plt.figure(figsize=(16,10))\n",
    "    return plt.imshow(cv2.cvtColor(image, cv2.COLOR_BGR2RGB))"
   ]
  },
  {
   "cell_type": "code",
   "execution_count": 7,
   "id": "b04aeccd",
   "metadata": {
    "execution": {
     "iopub.execute_input": "2023-04-07T06:55:42.864414Z",
     "iopub.status.busy": "2023-04-07T06:55:42.863183Z",
     "iopub.status.idle": "2023-04-07T06:55:43.503793Z",
     "shell.execute_reply": "2023-04-07T06:55:43.502402Z"
    },
    "papermill": {
     "duration": 0.651101,
     "end_time": "2023-04-07T06:55:43.506482",
     "exception": false,
     "start_time": "2023-04-07T06:55:42.855381",
     "status": "completed"
    },
    "tags": []
   },
   "outputs": [
    {
     "data": {
      "text/plain": [
       "<matplotlib.image.AxesImage at 0x7e899b9cc090>"
      ]
     },
     "execution_count": 7,
     "metadata": {},
     "output_type": "execute_result"
    },
    {
     "data": {
      "image/png": "[encoded data removed]",
      "text/plain": [
       "<Figure size 1600x1000 with 1 Axes>"
      ]
     },
     "metadata": {},
     "output_type": "display_data"
    }
   ],
   "source": [
    "file_name = \"/kaggle/input/test-2/2.png\"\n",
    "image = cv2.imread(file_name, cv2.IMREAD_GRAYSCALE)\n",
    "#image = cv2.flip(image, 1)\n",
    "plot_gray(image)"
   ]
  },
  {
   "cell_type": "code",
   "execution_count": 8,
   "id": "0f94c33f",
   "metadata": {
    "execution": {
     "iopub.execute_input": "2023-04-07T06:55:43.523162Z",
     "iopub.status.busy": "2023-04-07T06:55:43.522694Z",
     "iopub.status.idle": "2023-04-07T06:55:44.736046Z",
     "shell.execute_reply": "2023-04-07T06:55:44.734650Z"
    },
    "papermill": {
     "duration": 1.224718,
     "end_time": "2023-04-07T06:55:44.738678",
     "exception": false,
     "start_time": "2023-04-07T06:55:43.513960",
     "status": "completed"
    },
    "tags": []
   },
   "outputs": [
    {
     "data": {
      "text/plain": [
       "<matplotlib.image.AxesImage at 0x7e899b92ef10>"
      ]
     },
     "execution_count": 8,
     "metadata": {},
     "output_type": "execute_result"
    },
    {
     "data": {
      "image/png": "[encoded data removed]",
      "text/plain": [
       "<Figure size 1600x1000 with 1 Axes>"
      ]
     },
     "metadata": {},
     "output_type": "display_data"
    }
   ],
   "source": [
    "d = pytesseract.image_to_data(image, output_type=Output.DICT)\n",
    "n_boxes = len(d['level'])\n",
    "boxes = cv2.cvtColor(image.copy(), cv2.COLOR_BGR2RGB)\n",
    "for i in range(n_boxes):\n",
    "    (x, y, w, h) = (d['left'][i], d['top'][i], d['width'][i], d['height'][i])    \n",
    "    boxes = cv2.rectangle(boxes, (x, y), (x + w, y + h), (0, 255, 0), 2)\n",
    "    \n",
    "plot_rgb(boxes)"
   ]
  },
  {
   "cell_type": "code",
   "execution_count": 9,
   "id": "b4e136ae",
   "metadata": {
    "execution": {
     "iopub.execute_input": "2023-04-07T06:55:44.756855Z",
     "iopub.status.busy": "2023-04-07T06:55:44.755240Z",
     "iopub.status.idle": "2023-04-07T06:55:45.048278Z",
     "shell.execute_reply": "2023-04-07T06:55:45.045598Z"
    },
    "papermill": {
     "duration": 0.305955,
     "end_time": "2023-04-07T06:55:45.052215",
     "exception": false,
     "start_time": "2023-04-07T06:55:44.746260",
     "status": "completed"
    },
    "tags": []
   },
   "outputs": [
    {
     "name": "stdout",
     "output_type": "stream",
     "text": [
      "Who are you?\n",
      "\f",
      "\n"
     ]
    }
   ],
   "source": [
    "extracted_text = pytesseract.image_to_string(image)\n",
    "print(extracted_text)"
   ]
  },
  {
   "cell_type": "code",
   "execution_count": 10,
   "id": "8a16729c",
   "metadata": {
    "execution": {
     "iopub.execute_input": "2023-04-07T06:55:45.073904Z",
     "iopub.status.busy": "2023-04-07T06:55:45.071981Z",
     "iopub.status.idle": "2023-04-07T06:55:47.357641Z",
     "shell.execute_reply": "2023-04-07T06:55:47.355967Z"
    },
    "papermill": {
     "duration": 2.300562,
     "end_time": "2023-04-07T06:55:47.361105",
     "exception": false,
     "start_time": "2023-04-07T06:55:45.060543",
     "status": "completed"
    },
    "tags": []
   },
   "outputs": [
    {
     "name": "stdout",
     "output_type": "stream",
     "text": [
      "Stella : I am an AI digital assistant created by Subhajeet & Sourav.\n"
     ]
    }
   ],
   "source": [
    "messages = []\n",
    "\n",
    "itr = 1\n",
    "while itr:\n",
    "    #message = input(\"You: \")\n",
    "    message = \"what is rail-fence cipher\"\n",
    "    \n",
    "    if message:\n",
    "        messages.append({\"role\": \"user\", \"content\": extracted_text},)\n",
    "        chat_completion = openai.ChatCompletion.create(model=\"gpt-3.5-turbo\", messages=messages)\n",
    "    answer = chat_completion.choices[0].message.content\n",
    "    answer = answer.replace(\"OpenAI\", \"Subhajeet & Sourav\")\n",
    "    print(f\"Stella : {answer}\")\n",
    "    messages.append({\"role\": \"assistant\", \"content\": answer})\n",
    "    itr -= 1"
   ]
  },
  {
   "cell_type": "code",
   "execution_count": 11,
   "id": "d068e426",
   "metadata": {
    "execution": {
     "iopub.execute_input": "2023-04-07T06:55:47.379103Z",
     "iopub.status.busy": "2023-04-07T06:55:47.378144Z",
     "iopub.status.idle": "2023-04-07T06:55:47.386723Z",
     "shell.execute_reply": "2023-04-07T06:55:47.385749Z"
    },
    "papermill": {
     "duration": 0.020728,
     "end_time": "2023-04-07T06:55:47.389472",
     "exception": false,
     "start_time": "2023-04-07T06:55:47.368744",
     "status": "completed"
    },
    "tags": []
   },
   "outputs": [
    {
     "data": {
      "text/plain": [
       "'engine = pyttsx3.init()\\nengine.say(answer)\\nengine.runAndWait()'"
      ]
     },
     "execution_count": 11,
     "metadata": {},
     "output_type": "execute_result"
    }
   ],
   "source": [
    "'''engine = pyttsx3.init()\n",
    "engine.say(answer)\n",
    "engine.runAndWait()'''"
   ]
  }
 ],
 "metadata": {
  "kernelspec": {
   "display_name": "Python 3",
   "language": "python",
   "name": "python3"
  },
  "language_info": {
   "codemirror_mode": {
    "name": "ipython",
    "version": 3
   },
   "file_extension": ".py",
   "mimetype": "text/x-python",
   "name": "python",
   "nbconvert_exporter": "python",
   "pygments_lexer": "ipython3",
   "version": "3.7.12"
  },
  "papermill": {
   "default_parameters": {},
   "duration": 40.77312,
   "end_time": "2023-04-07T06:55:48.324024",
   "environment_variables": {},
   "exception": null,
   "input_path": "__notebook__.ipynb",
   "output_path": "__notebook__.ipynb",
   "parameters": {},
   "start_time": "2023-04-07T06:55:07.550904",
   "version": "2.4.0"
  }
 },
 "nbformat": 4,
 "nbformat_minor": 5
}
