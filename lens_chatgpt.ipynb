{
  "metadata": {
    "kernelspec": {
      "language": "python",
      "display_name": "Python 3",
      "name": "python3"
    },
    "language_info": {
      "name": "python",
      "version": "3.7.12",
      "mimetype": "text/x-python",
      "codemirror_mode": {
        "name": "ipython",
        "version": 3
      },
      "pygments_lexer": "ipython3",
      "nbconvert_exporter": "python",
      "file_extension": ".py"
    },
    "colab": {
      "provenance": [],
      "include_colab_link": true
    }
  },
  "nbformat_minor": 0,
  "nbformat": 4,
  "cells": [
    {
      "cell_type": "markdown",
      "metadata": {
        "id": "view-in-github",
        "colab_type": "text"
      },
      "source": [
        "<a href=\"https://colab.research.google.com/github/ChandaSourav/Lens-Solver/blob/main/lens_chatgpt.ipynb\" target=\"_parent\"><img src=\"https://colab.research.google.com/assets/colab-badge.svg\" alt=\"Open In Colab\"/></a>"
      ]
    },
    {
      "cell_type": "code",
      "source": [
        "from google.colab import drive\n",
        "drive.mount('/content/drive')"
      ],
      "metadata": {
        "id": "Vpb-stFhqK46"
      },
      "execution_count": null,
      "outputs": []
    },
    {
      "cell_type": "code",
      "source": [
        "!sudo apt install tesseract-ocr"
      ],
      "metadata": {
        "execution": {
          "iopub.status.busy": "2023-04-07T07:08:13.404332Z",
          "iopub.execute_input": "2023-04-07T07:08:13.404730Z",
          "iopub.status.idle": "2023-04-07T07:08:17.227792Z",
          "shell.execute_reply.started": "2023-04-07T07:08:13.404695Z",
          "shell.execute_reply": "2023-04-07T07:08:17.225842Z"
        },
        "trusted": true,
        "id": "rNcOeU-9p9PB"
      },
      "execution_count": null,
      "outputs": []
    },
    {
      "cell_type": "code",
      "source": [
        "pip install --upgrade openai easyocr pytesseract pyttsx3"
      ],
      "metadata": {
        "execution": {
          "iopub.status.busy": "2023-04-07T07:08:17.231090Z",
          "iopub.execute_input": "2023-04-07T07:08:17.231555Z",
          "iopub.status.idle": "2023-04-07T07:08:32.316927Z",
          "shell.execute_reply.started": "2023-04-07T07:08:17.231508Z",
          "shell.execute_reply": "2023-04-07T07:08:32.315286Z"
        },
        "trusted": true,
        "id": "fhMJTIB8p9PD"
      },
      "execution_count": null,
      "outputs": []
    },
    {
      "cell_type": "code",
      "source": [
        "import numpy as np\n",
        "import pandas as pd\n",
        "import matplotlib.pyplot as plt\n",
        "import openai\n",
        "import cv2\n",
        "import re\n",
        "from PIL import Image, ImageOps\n",
        "import pytesseract\n",
        "import pyttsx3\n",
        "import os\n",
        "\n",
        "from pytesseract import Output\n",
        "\n",
        "import warnings\n",
        "warnings.filterwarnings(\"ignore\")"
      ],
      "metadata": {
        "_uuid": "8f2839f25d086af736a60e9eeb907d3b93b6e0e5",
        "_cell_guid": "b1076dfc-b9ad-4769-8c92-a6c4dae69d19",
        "execution": {
          "iopub.status.busy": "2023-04-07T07:08:32.319264Z",
          "iopub.execute_input": "2023-04-07T07:08:32.319667Z",
          "iopub.status.idle": "2023-04-07T07:08:32.756884Z",
          "shell.execute_reply.started": "2023-04-07T07:08:32.319626Z",
          "shell.execute_reply": "2023-04-07T07:08:32.755186Z"
        },
        "trusted": true,
        "id": "kYz9uDw_p9PD"
      },
      "execution_count": null,
      "outputs": []
    },
    {
      "cell_type": "code",
      "source": [
        "#we have to work with this so, uncomment it before using the code\n",
        "\n",
        "#itr = int(input(\"Enter the number of searches you want to perform : \"))"
      ],
      "metadata": {
        "execution": {
          "iopub.status.busy": "2023-04-07T07:08:32.759057Z",
          "iopub.execute_input": "2023-04-07T07:08:32.759980Z",
          "iopub.status.idle": "2023-04-07T07:08:32.768450Z",
          "shell.execute_reply.started": "2023-04-07T07:08:32.759936Z",
          "shell.execute_reply": "2023-04-07T07:08:32.766165Z"
        },
        "trusted": true,
        "id": "8y-a83p-p9PE"
      },
      "execution_count": null,
      "outputs": []
    },
    {
      "cell_type": "code",
      "source": [
        "# Set up the OpenAI API client\n",
        "f = open(\"/content/drive/MyDrive/Colab Notebooks/Key/OpenAI_key.txt\",'r',encoding=\"utf8\")\n",
        "key = f.read()\n",
        "openai.api_key = key"
      ],
      "metadata": {
        "execution": {
          "iopub.status.busy": "2023-04-07T07:08:32.772591Z",
          "iopub.execute_input": "2023-04-07T07:08:32.773095Z",
          "iopub.status.idle": "2023-04-07T07:08:32.784769Z",
          "shell.execute_reply.started": "2023-04-07T07:08:32.773037Z",
          "shell.execute_reply": "2023-04-07T07:08:32.783326Z"
        },
        "trusted": true,
        "id": "yB9u55Y3p9PE"
      },
      "execution_count": null,
      "outputs": []
    },
    {
      "cell_type": "code",
      "source": [
        "def plot_gray(image):\n",
        "    plt.figure(figsize=(16,10))\n",
        "    return plt.imshow(image, cmap='Greys_r')\n",
        "\n",
        "def plot_rgb(image):\n",
        "    plt.figure(figsize=(16,10))\n",
        "    return plt.imshow(cv2.cvtColor(image, cv2.COLOR_BGR2RGB))"
      ],
      "metadata": {
        "execution": {
          "iopub.status.busy": "2023-04-07T07:08:32.786610Z",
          "iopub.execute_input": "2023-04-07T07:08:32.786989Z",
          "iopub.status.idle": "2023-04-07T07:08:32.796265Z",
          "shell.execute_reply.started": "2023-04-07T07:08:32.786954Z",
          "shell.execute_reply": "2023-04-07T07:08:32.794796Z"
        },
        "trusted": true,
        "id": "gkVri7MHp9PE"
      },
      "execution_count": null,
      "outputs": []
    },
    {
      "cell_type": "code",
      "source": [
        "from IPython.display import display, Javascript\n",
        "from google.colab.output import eval_js\n",
        "from base64 import b64decode\n",
        "\n",
        "def take_photo(filename='photo.jpg', quality=0.8):\n",
        "  js = Javascript('''\n",
        "    async function takePhoto(quality) {\n",
        "      const div = document.createElement('div');\n",
        "      const capture = document.createElement('button');\n",
        "      capture.textContent = 'Capture';\n",
        "      div.appendChild(capture);\n",
        "\n",
        "      const video = document.createElement('video');\n",
        "      video.style.display = 'block';\n",
        "      const stream = await navigator.mediaDevices.getUserMedia({video: true});\n",
        "\n",
        "      document.body.appendChild(div);\n",
        "      div.appendChild(video);\n",
        "      video.srcObject = stream;\n",
        "      await video.play();\n",
        "\n",
        "      // Resize the output to fit the video element.\n",
        "      google.colab.output.setIframeHeight(document.documentElement.scrollHeight, true);\n",
        "\n",
        "      // Wait for Capture to be clicked.\n",
        "      await new Promise((resolve) => capture.onclick = resolve);\n",
        "\n",
        "      const canvas = document.createElement('canvas');\n",
        "      canvas.width = video.videoWidth;\n",
        "      canvas.height = video.videoHeight;\n",
        "      canvas.getContext('2d').drawImage(video, 0, 0);\n",
        "      stream.getVideoTracks()[0].stop();\n",
        "      div.remove();\n",
        "      return canvas.toDataURL('image/jpeg', quality);\n",
        "    }\n",
        "    ''')\n",
        "  display(js)\n",
        "  data = eval_js('takePhoto({})'.format(quality))\n",
        "  binary = b64decode(data.split(',')[1])\n",
        "  with open(filename, 'wb') as f:\n",
        "    f.write(binary)\n",
        "  return filename"
      ],
      "metadata": {
        "id": "hv2s5JTFrHkX"
      },
      "execution_count": null,
      "outputs": []
    },
    {
      "cell_type": "code",
      "source": [
        "from IPython.display import Image\n",
        "try:\n",
        "  filename = take_photo()\n",
        "  print('Saved to {}'.format(filename))\n",
        "  \n",
        "  # Show the image which was just taken.\n",
        "  display(Image(filename))\n",
        "except Exception as err:\n",
        "  # Errors will be thrown if the user does not have a webcam or if they do not\n",
        "  # grant the page permission to access it.\n",
        "  print(str(err))"
      ],
      "metadata": {
        "id": "R6V5XkFsrVQw"
      },
      "execution_count": null,
      "outputs": []
    },
    {
      "cell_type": "code",
      "source": [
        "file_name = \"/content/photo.jpg\"\n",
        "image = cv2.imread(file_name, cv2.IMREAD_GRAYSCALE)\n",
        "#image = cv2.flip(image, 1)\n",
        "plot_gray(image)"
      ],
      "metadata": {
        "execution": {
          "iopub.status.busy": "2023-04-07T07:08:32.798655Z",
          "iopub.execute_input": "2023-04-07T07:08:32.799053Z",
          "iopub.status.idle": "2023-04-07T07:08:33.520557Z",
          "shell.execute_reply.started": "2023-04-07T07:08:32.799015Z",
          "shell.execute_reply": "2023-04-07T07:08:33.519233Z"
        },
        "trusted": true,
        "id": "-9TkHdvwp9PE"
      },
      "execution_count": null,
      "outputs": []
    },
    {
      "cell_type": "code",
      "source": [
        "d = pytesseract.image_to_data(image, output_type=Output.DICT)\n",
        "n_boxes = len(d['level'])\n",
        "boxes = cv2.cvtColor(image.copy(), cv2.COLOR_BGR2RGB)\n",
        "for i in range(n_boxes):\n",
        "    (x, y, w, h) = (d['left'][i], d['top'][i], d['width'][i], d['height'][i])    \n",
        "    boxes = cv2.rectangle(boxes, (x, y), (x + w, y + h), (0, 255, 0), 2)\n",
        "    \n",
        "plot_rgb(boxes)"
      ],
      "metadata": {
        "execution": {
          "iopub.status.busy": "2023-04-07T07:08:33.522174Z",
          "iopub.execute_input": "2023-04-07T07:08:33.522583Z",
          "iopub.status.idle": "2023-04-07T07:08:34.521937Z",
          "shell.execute_reply.started": "2023-04-07T07:08:33.522544Z",
          "shell.execute_reply": "2023-04-07T07:08:34.520167Z"
        },
        "trusted": true,
        "id": "cWgOrLmRp9PE"
      },
      "execution_count": null,
      "outputs": []
    },
    {
      "cell_type": "code",
      "source": [
        "extracted_text = pytesseract.image_to_string(image)\n",
        "print(extracted_text)"
      ],
      "metadata": {
        "execution": {
          "iopub.status.busy": "2023-04-07T07:08:34.524204Z",
          "iopub.execute_input": "2023-04-07T07:08:34.525374Z",
          "iopub.status.idle": "2023-04-07T07:08:34.790034Z",
          "shell.execute_reply.started": "2023-04-07T07:08:34.525310Z",
          "shell.execute_reply": "2023-04-07T07:08:34.788365Z"
        },
        "trusted": true,
        "id": "H7qs_Cpdp9PF"
      },
      "execution_count": null,
      "outputs": []
    },
    {
      "cell_type": "code",
      "source": [
        "messages = []\n",
        "\n",
        "itr = 1\n",
        "while itr:\n",
        "    #message = input(\"You: \")\n",
        "    message = \"what is rail-fence cipher\"\n",
        "    \n",
        "    if message:\n",
        "        messages.append({\"role\": \"user\", \"content\": extracted_text},)\n",
        "        chat_completion = openai.ChatCompletion.create(model=\"gpt-3.5-turbo\", messages=messages)\n",
        "    answer = chat_completion.choices[0].message.content\n",
        "    answer = answer.replace(\"OpenAI\", \"Subhajeet & Sourav\")\n",
        "    print(f\"Stella : {answer}\")\n",
        "    messages.append({\"role\": \"assistant\", \"content\": answer})\n",
        "    itr -= 1"
      ],
      "metadata": {
        "execution": {
          "iopub.status.busy": "2023-04-07T07:08:34.792060Z",
          "iopub.execute_input": "2023-04-07T07:08:34.792498Z",
          "iopub.status.idle": "2023-04-07T07:08:38.351308Z",
          "shell.execute_reply.started": "2023-04-07T07:08:34.792452Z",
          "shell.execute_reply": "2023-04-07T07:08:38.349853Z"
        },
        "trusted": true,
        "id": "ThWcPTn7p9PF"
      },
      "execution_count": null,
      "outputs": []
    },
    {
      "cell_type": "code",
      "source": [
        "'''engine = pyttsx3.init()\n",
        "engine.say(answer)\n",
        "engine.runAndWait()'''"
      ],
      "metadata": {
        "execution": {
          "iopub.status.busy": "2023-04-07T07:08:38.353359Z",
          "iopub.execute_input": "2023-04-07T07:08:38.353870Z",
          "iopub.status.idle": "2023-04-07T07:08:38.364058Z",
          "shell.execute_reply.started": "2023-04-07T07:08:38.353818Z",
          "shell.execute_reply": "2023-04-07T07:08:38.362413Z"
        },
        "trusted": true,
        "id": "UDMN1p7Rp9PF"
      },
      "execution_count": null,
      "outputs": []
    }
  ]
}